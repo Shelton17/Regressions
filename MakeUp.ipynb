{
  "nbformat": 4,
  "nbformat_minor": 0,
  "metadata": {
    "colab": {
      "name": "MakeUp.ipynb",
      "provenance": []
    },
    "kernelspec": {
      "name": "python3",
      "display_name": "Python 3"
    }
  },
  "cells": [
    {
      "cell_type": "markdown",
      "metadata": {
        "id": "RwDHa2w0EahG",
        "colab_type": "text"
      },
      "source": [
        "# **PRACTICAL QUESTION**"
      ]
    },
    {
      "cell_type": "markdown",
      "metadata": {
        "id": "syQ47zyvC3iM",
        "colab_type": "text"
      },
      "source": [
        "a. Explore the data and perform simple linear regression                          \n",
        "b. Display a scatter plot with a regression line                                                                              \n",
        "c. Use the coefficient and intercept values calculated by the estimator to make predicitions for 2019\n",
        "\n"
      ]
    },
    {
      "cell_type": "markdown",
      "metadata": {
        "id": "vm-B3RnaExLw",
        "colab_type": "text"
      },
      "source": [
        "# ***Introduction***"
      ]
    },
    {
      "cell_type": "markdown",
      "metadata": {
        "id": "DD-YUU4xE5rK",
        "colab_type": "text"
      },
      "source": [
        "*From the temperature dataset provided, we need to examine the relationship that exists betweeen the date(year) and the temperature values. To do this we will need to use a simple linear regression algorithm to develop the right algorithm and consequently develop a plot for the equation to effectively predict the outcome of other datapoints(years)*"
      ]
    },
    {
      "cell_type": "markdown",
      "metadata": {
        "id": "O3ws1UNOGlCx",
        "colab_type": "text"
      },
      "source": [
        "# ***Preparing and Exploring the dataset***"
      ]
    },
    {
      "cell_type": "markdown",
      "metadata": {
        "id": "rn9ME20THAq0",
        "colab_type": "text"
      },
      "source": [
        "*First, we will load the dataset into our workspace and view it to determine its nature and how best to analyse it. To do this we will need to import the necessary libraries to perform the actions we need.*"
      ]
    },
    {
      "cell_type": "code",
      "metadata": {
        "id": "xl8PNXEpHNRb",
        "colab_type": "code",
        "colab": {}
      },
      "source": [
        "import pandas as pd\n",
        "import numpy as np\n",
        "import matplotlib.pyplot as plt\n",
        "import seaborn as sns "
      ],
      "execution_count": 29,
      "outputs": []
    },
    {
      "cell_type": "markdown",
      "metadata": {
        "id": "C1zk6_FMH_gm",
        "colab_type": "text"
      },
      "source": [
        "*Loading the dataset*"
      ]
    },
    {
      "cell_type": "code",
      "metadata": {
        "id": "fzfqQN_7IC6O",
        "colab_type": "code",
        "colab": {}
      },
      "source": [
        "myDataset = pd.read_csv('temp_nyc_1895-2018.csv')"
      ],
      "execution_count": 30,
      "outputs": []
    },
    {
      "cell_type": "markdown",
      "metadata": {
        "id": "JbHXRfbOISVn",
        "colab_type": "text"
      },
      "source": [
        "*Getting a first look into what the datset holds*"
      ]
    },
    {
      "cell_type": "code",
      "metadata": {
        "id": "skJ7Io_oIRM-",
        "colab_type": "code",
        "colab": {
          "base_uri": "https://localhost:8080/",
          "height": 34
        },
        "outputId": "37a424f5-c28b-44ca-8eed-0cf141ccca21"
      },
      "source": [
        "myDataset.columns"
      ],
      "execution_count": 31,
      "outputs": [
        {
          "output_type": "execute_result",
          "data": {
            "text/plain": [
              "Index(['Date', 'Value', 'Anomaly'], dtype='object')"
            ]
          },
          "metadata": {
            "tags": []
          },
          "execution_count": 31
        }
      ]
    },
    {
      "cell_type": "code",
      "metadata": {
        "id": "sUppJrQYIeD-",
        "colab_type": "code",
        "colab": {
          "base_uri": "https://localhost:8080/",
          "height": 419
        },
        "outputId": "145f9070-3d5d-46d1-b77c-a4d11091e353"
      },
      "source": [
        "myDataset"
      ],
      "execution_count": 32,
      "outputs": [
        {
          "output_type": "execute_result",
          "data": {
            "text/html": [
              "<div>\n",
              "<style scoped>\n",
              "    .dataframe tbody tr th:only-of-type {\n",
              "        vertical-align: middle;\n",
              "    }\n",
              "\n",
              "    .dataframe tbody tr th {\n",
              "        vertical-align: top;\n",
              "    }\n",
              "\n",
              "    .dataframe thead th {\n",
              "        text-align: right;\n",
              "    }\n",
              "</style>\n",
              "<table border=\"1\" class=\"dataframe\">\n",
              "  <thead>\n",
              "    <tr style=\"text-align: right;\">\n",
              "      <th></th>\n",
              "      <th>Date</th>\n",
              "      <th>Value</th>\n",
              "      <th>Anomaly</th>\n",
              "    </tr>\n",
              "  </thead>\n",
              "  <tbody>\n",
              "    <tr>\n",
              "      <th>0</th>\n",
              "      <td>189501</td>\n",
              "      <td>34.2</td>\n",
              "      <td>-3.2</td>\n",
              "    </tr>\n",
              "    <tr>\n",
              "      <th>1</th>\n",
              "      <td>189601</td>\n",
              "      <td>34.7</td>\n",
              "      <td>-2.7</td>\n",
              "    </tr>\n",
              "    <tr>\n",
              "      <th>2</th>\n",
              "      <td>189701</td>\n",
              "      <td>35.5</td>\n",
              "      <td>-1.9</td>\n",
              "    </tr>\n",
              "    <tr>\n",
              "      <th>3</th>\n",
              "      <td>189801</td>\n",
              "      <td>39.6</td>\n",
              "      <td>2.2</td>\n",
              "    </tr>\n",
              "    <tr>\n",
              "      <th>4</th>\n",
              "      <td>189901</td>\n",
              "      <td>36.4</td>\n",
              "      <td>-1.0</td>\n",
              "    </tr>\n",
              "    <tr>\n",
              "      <th>...</th>\n",
              "      <td>...</td>\n",
              "      <td>...</td>\n",
              "      <td>...</td>\n",
              "    </tr>\n",
              "    <tr>\n",
              "      <th>119</th>\n",
              "      <td>201401</td>\n",
              "      <td>35.5</td>\n",
              "      <td>-1.9</td>\n",
              "    </tr>\n",
              "    <tr>\n",
              "      <th>120</th>\n",
              "      <td>201501</td>\n",
              "      <td>36.1</td>\n",
              "      <td>-1.3</td>\n",
              "    </tr>\n",
              "    <tr>\n",
              "      <th>121</th>\n",
              "      <td>201601</td>\n",
              "      <td>40.8</td>\n",
              "      <td>3.4</td>\n",
              "    </tr>\n",
              "    <tr>\n",
              "      <th>122</th>\n",
              "      <td>201701</td>\n",
              "      <td>42.8</td>\n",
              "      <td>5.4</td>\n",
              "    </tr>\n",
              "    <tr>\n",
              "      <th>123</th>\n",
              "      <td>201801</td>\n",
              "      <td>38.7</td>\n",
              "      <td>1.3</td>\n",
              "    </tr>\n",
              "  </tbody>\n",
              "</table>\n",
              "<p>124 rows × 3 columns</p>\n",
              "</div>"
            ],
            "text/plain": [
              "       Date  Value  Anomaly\n",
              "0    189501   34.2     -3.2\n",
              "1    189601   34.7     -2.7\n",
              "2    189701   35.5     -1.9\n",
              "3    189801   39.6      2.2\n",
              "4    189901   36.4     -1.0\n",
              "..      ...    ...      ...\n",
              "119  201401   35.5     -1.9\n",
              "120  201501   36.1     -1.3\n",
              "121  201601   40.8      3.4\n",
              "122  201701   42.8      5.4\n",
              "123  201801   38.7      1.3\n",
              "\n",
              "[124 rows x 3 columns]"
            ]
          },
          "metadata": {
            "tags": []
          },
          "execution_count": 32
        }
      ]
    },
    {
      "cell_type": "markdown",
      "metadata": {
        "id": "hSNl_bXAIpSS",
        "colab_type": "text"
      },
      "source": [
        "*From the dataset it is clear thet we need to resolve the date so that interpretation is easier, hence we need to remove the month part \"01\" of the date to remain only with the year.* "
      ]
    },
    {
      "cell_type": "code",
      "metadata": {
        "id": "2BkmNpAXJCZm",
        "colab_type": "code",
        "colab": {}
      },
      "source": [
        "myDataset.Date = myDataset.Date.floordiv(100)"
      ],
      "execution_count": 33,
      "outputs": []
    },
    {
      "cell_type": "code",
      "metadata": {
        "id": "TwNi451ySnYv",
        "colab_type": "code",
        "colab": {
          "base_uri": "https://localhost:8080/",
          "height": 419
        },
        "outputId": "68fa4ee3-a44f-43cf-cc18-71784e89802c"
      },
      "source": [
        "myDataset"
      ],
      "execution_count": 34,
      "outputs": [
        {
          "output_type": "execute_result",
          "data": {
            "text/html": [
              "<div>\n",
              "<style scoped>\n",
              "    .dataframe tbody tr th:only-of-type {\n",
              "        vertical-align: middle;\n",
              "    }\n",
              "\n",
              "    .dataframe tbody tr th {\n",
              "        vertical-align: top;\n",
              "    }\n",
              "\n",
              "    .dataframe thead th {\n",
              "        text-align: right;\n",
              "    }\n",
              "</style>\n",
              "<table border=\"1\" class=\"dataframe\">\n",
              "  <thead>\n",
              "    <tr style=\"text-align: right;\">\n",
              "      <th></th>\n",
              "      <th>Date</th>\n",
              "      <th>Value</th>\n",
              "      <th>Anomaly</th>\n",
              "    </tr>\n",
              "  </thead>\n",
              "  <tbody>\n",
              "    <tr>\n",
              "      <th>0</th>\n",
              "      <td>1895</td>\n",
              "      <td>34.2</td>\n",
              "      <td>-3.2</td>\n",
              "    </tr>\n",
              "    <tr>\n",
              "      <th>1</th>\n",
              "      <td>1896</td>\n",
              "      <td>34.7</td>\n",
              "      <td>-2.7</td>\n",
              "    </tr>\n",
              "    <tr>\n",
              "      <th>2</th>\n",
              "      <td>1897</td>\n",
              "      <td>35.5</td>\n",
              "      <td>-1.9</td>\n",
              "    </tr>\n",
              "    <tr>\n",
              "      <th>3</th>\n",
              "      <td>1898</td>\n",
              "      <td>39.6</td>\n",
              "      <td>2.2</td>\n",
              "    </tr>\n",
              "    <tr>\n",
              "      <th>4</th>\n",
              "      <td>1899</td>\n",
              "      <td>36.4</td>\n",
              "      <td>-1.0</td>\n",
              "    </tr>\n",
              "    <tr>\n",
              "      <th>...</th>\n",
              "      <td>...</td>\n",
              "      <td>...</td>\n",
              "      <td>...</td>\n",
              "    </tr>\n",
              "    <tr>\n",
              "      <th>119</th>\n",
              "      <td>2014</td>\n",
              "      <td>35.5</td>\n",
              "      <td>-1.9</td>\n",
              "    </tr>\n",
              "    <tr>\n",
              "      <th>120</th>\n",
              "      <td>2015</td>\n",
              "      <td>36.1</td>\n",
              "      <td>-1.3</td>\n",
              "    </tr>\n",
              "    <tr>\n",
              "      <th>121</th>\n",
              "      <td>2016</td>\n",
              "      <td>40.8</td>\n",
              "      <td>3.4</td>\n",
              "    </tr>\n",
              "    <tr>\n",
              "      <th>122</th>\n",
              "      <td>2017</td>\n",
              "      <td>42.8</td>\n",
              "      <td>5.4</td>\n",
              "    </tr>\n",
              "    <tr>\n",
              "      <th>123</th>\n",
              "      <td>2018</td>\n",
              "      <td>38.7</td>\n",
              "      <td>1.3</td>\n",
              "    </tr>\n",
              "  </tbody>\n",
              "</table>\n",
              "<p>124 rows × 3 columns</p>\n",
              "</div>"
            ],
            "text/plain": [
              "     Date  Value  Anomaly\n",
              "0    1895   34.2     -3.2\n",
              "1    1896   34.7     -2.7\n",
              "2    1897   35.5     -1.9\n",
              "3    1898   39.6      2.2\n",
              "4    1899   36.4     -1.0\n",
              "..    ...    ...      ...\n",
              "119  2014   35.5     -1.9\n",
              "120  2015   36.1     -1.3\n",
              "121  2016   40.8      3.4\n",
              "122  2017   42.8      5.4\n",
              "123  2018   38.7      1.3\n",
              "\n",
              "[124 rows x 3 columns]"
            ]
          },
          "metadata": {
            "tags": []
          },
          "execution_count": 34
        }
      ]
    },
    {
      "cell_type": "markdown",
      "metadata": {
        "id": "zayPLug4S4F6",
        "colab_type": "text"
      },
      "source": [
        "# ***Defining the variables***"
      ]
    },
    {
      "cell_type": "markdown",
      "metadata": {
        "id": "XRrFNoY-TD7e",
        "colab_type": "text"
      },
      "source": [
        "Before we proceed to develop the regression algorithm we will need to identify our indepentent variable (x) and the dependent variable (y). In this case we will try to prove and show how the temperature depends on the year, and consequently develop an equation to predict other years."
      ]
    },
    {
      "cell_type": "code",
      "metadata": {
        "id": "Af-wWDroVI5K",
        "colab_type": "code",
        "colab": {}
      },
      "source": [
        "x = myDataset.iloc[:, 0].values\n",
        "y = myDataset.iloc[:, -2].values"
      ],
      "execution_count": 35,
      "outputs": []
    },
    {
      "cell_type": "markdown",
      "metadata": {
        "id": "mLKeMFIWVYBK",
        "colab_type": "text"
      },
      "source": [
        "*showing our variables*"
      ]
    },
    {
      "cell_type": "code",
      "metadata": {
        "id": "mHalRHheVfiZ",
        "colab_type": "code",
        "colab": {
          "base_uri": "https://localhost:8080/",
          "height": 170
        },
        "outputId": "a3ae5660-022c-4c1f-f91a-a289db7efeea"
      },
      "source": [
        "print(\"Independent Variable(Years)\", x)"
      ],
      "execution_count": 36,
      "outputs": [
        {
          "output_type": "stream",
          "text": [
            "Independent Variable(Years) [1895 1896 1897 1898 1899 1900 1901 1902 1903 1904 1905 1906 1907 1908\n",
            " 1909 1910 1911 1912 1913 1914 1915 1916 1917 1918 1919 1920 1921 1922\n",
            " 1923 1924 1925 1926 1927 1928 1929 1930 1931 1932 1933 1934 1935 1936\n",
            " 1937 1938 1939 1940 1941 1942 1943 1944 1945 1946 1947 1948 1949 1950\n",
            " 1951 1952 1953 1954 1955 1956 1957 1958 1959 1960 1961 1962 1963 1964\n",
            " 1965 1966 1967 1968 1969 1970 1971 1972 1973 1974 1975 1976 1977 1978\n",
            " 1979 1980 1981 1982 1983 1984 1985 1986 1987 1988 1989 1990 1991 1992\n",
            " 1993 1994 1995 1996 1997 1998 1999 2000 2001 2002 2003 2004 2005 2006\n",
            " 2007 2008 2009 2010 2011 2012 2013 2014 2015 2016 2017 2018]\n"
          ],
          "name": "stdout"
        }
      ]
    },
    {
      "cell_type": "code",
      "metadata": {
        "id": "eZCO18GlV_CN",
        "colab_type": "code",
        "colab": {
          "base_uri": "https://localhost:8080/",
          "height": 170
        },
        "outputId": "d1f46bcc-aeac-4573-df13-37e92c195b31"
      },
      "source": [
        "print(\"Dependent variable(Temperature values)\", y)"
      ],
      "execution_count": 37,
      "outputs": [
        {
          "output_type": "stream",
          "text": [
            "Dependent variable(Temperature values) [34.2 34.7 35.5 39.6 36.4 37.4 37.  35.  35.5 29.8 33.7 42.3 40.5 38.3\n",
            " 39.6 36.1 40.7 29.3 46.9 36.9 38.9 42.3 38.4 26.5 40.6 29.7 39.7 33.4\n",
            " 35.2 39.4 33.8 37.2 36.8 40.  37.8 38.5 38.2 47.6 45.6 39.8 35.  34.3\n",
            " 45.7 37.3 36.8 30.  34.5 36.5 36.1 39.  31.5 40.2 43.  30.1 43.5 47.6\n",
            " 42.5 42.4 42.4 37.  35.6 36.2 33.8 36.4 37.1 37.8 31.9 38.  34.6 40.2\n",
            " 34.  37.1 41.6 31.7 35.7 29.9 31.5 40.5 40.6 39.7 41.7 32.6 26.1 32.3\n",
            " 38.6 38.  30.6 30.9 38.  33.5 33.  39.3 35.9 34.2 42.4 46.  39.6 40.9\n",
            " 41.  31.6 42.6 37.  39.2 45.8 40.8 37.8 38.8 45.4 32.9 31.  37.4 47.6\n",
            " 43.6 42.4 33.4 38.1 34.8 44.2 40.8 35.5 36.1 40.8 42.8 38.7]\n"
          ],
          "name": "stdout"
        }
      ]
    },
    {
      "cell_type": "markdown",
      "metadata": {
        "id": "0P6fGsF7WxEF",
        "colab_type": "text"
      },
      "source": [
        "# ***Splitting the variables into test and training data***"
      ]
    },
    {
      "cell_type": "markdown",
      "metadata": {
        "id": "GejTpq-h_fkU",
        "colab_type": "text"
      },
      "source": [
        "When developing a simple regression model, it is paramount that we split the data into a test and training set, to give our model enough data test on and still remain with enough to check the accuracy of our model. We will split the data 80% to 20%,training and test respectively, because this is the sweet spot for giving the model enough data to practice on and still have enough for prediction accuracy."
      ]
    },
    {
      "cell_type": "markdown",
      "metadata": {
        "id": "3xrI1UooAO2b",
        "colab_type": "text"
      },
      "source": [
        "To split the data we will use the regressor whiich is inbuilt in scikit learn"
      ]
    },
    {
      "cell_type": "code",
      "metadata": {
        "id": "8LEpjZEsAXO5",
        "colab_type": "code",
        "colab": {}
      },
      "source": [
        "from sklearn.model_selection import train_test_split\n",
        "x_train, x_test, y_train, y_test = train_test_split(x, y, test_size = 0.2, random_state = 0)"
      ],
      "execution_count": 38,
      "outputs": []
    },
    {
      "cell_type": "markdown",
      "metadata": {
        "id": "W6J1Rs8cAj6N",
        "colab_type": "text"
      },
      "source": [
        "*We use a random state of zero to ensure the data is ssampled, avoiding a case where data is compromised toards the end of the data sent. In developing a regression model it is important to sample the training data from the entire pool.*"
      ]
    },
    {
      "cell_type": "markdown",
      "metadata": {
        "id": "nj5ofjQyC6xQ",
        "colab_type": "text"
      },
      "source": [
        "To use the training and test datasets we will need to first reshape them"
      ]
    },
    {
      "cell_type": "code",
      "metadata": {
        "id": "oZYOuoNkDRA8",
        "colab_type": "code",
        "colab": {}
      },
      "source": [
        "x_train = x_train.reshape(-1,1)\n",
        "y_train = y_train.reshape(-1,1)\n",
        "x_test = x_test.reshape(-1,1)\n",
        "y_test = y_test.reshape(-1,1)"
      ],
      "execution_count": 39,
      "outputs": []
    },
    {
      "cell_type": "markdown",
      "metadata": {
        "id": "0Yvudu-LBQNX",
        "colab_type": "text"
      },
      "source": [
        "# ***Training the simple regression model***"
      ]
    },
    {
      "cell_type": "markdown",
      "metadata": {
        "id": "yr3R75OKBf_9",
        "colab_type": "text"
      },
      "source": [
        "Here we will again borrow a function from scikit learn, *LinearRegression*, we will train our model on *x_train* and *y_train* our training sets. The model will learn from this training dataset."
      ]
    },
    {
      "cell_type": "code",
      "metadata": {
        "id": "wM8Ed1fTCMv6",
        "colab_type": "code",
        "colab": {
          "base_uri": "https://localhost:8080/",
          "height": 34
        },
        "outputId": "0e5b7205-0417-468d-c721-14d0d1d03f4a"
      },
      "source": [
        "from sklearn.linear_model import LinearRegression\n",
        "regressor = LinearRegression()\n",
        "regressor.fit(x_train, y_train)"
      ],
      "execution_count": 40,
      "outputs": [
        {
          "output_type": "execute_result",
          "data": {
            "text/plain": [
              "LinearRegression(copy_X=True, fit_intercept=True, n_jobs=None, normalize=False)"
            ]
          },
          "metadata": {
            "tags": []
          },
          "execution_count": 40
        }
      ]
    },
    {
      "cell_type": "markdown",
      "metadata": {
        "id": "BMEvqVqJEW-C",
        "colab_type": "text"
      },
      "source": [
        "After training our dataset we can try and see the predictions it gives on our test data, that is using the regressor on the test data set."
      ]
    },
    {
      "cell_type": "code",
      "metadata": {
        "id": "2VFORl9_Epz9",
        "colab_type": "code",
        "colab": {}
      },
      "source": [
        "predict_test_data = regressor.predict(x_test) "
      ],
      "execution_count": 41,
      "outputs": []
    },
    {
      "cell_type": "code",
      "metadata": {
        "id": "3mAbAGwTE6qC",
        "colab_type": "code",
        "colab": {
          "base_uri": "https://localhost:8080/",
          "height": 442
        },
        "outputId": "e4e7ae15-ad70-4904-bb4a-857bfa126a9b"
      },
      "source": [
        "predict_test_data"
      ],
      "execution_count": 42,
      "outputs": [
        {
          "output_type": "execute_result",
          "data": {
            "text/plain": [
              "array([[37.00698558],\n",
              "       [37.56109362],\n",
              "       [37.46874228],\n",
              "       [37.21807436],\n",
              "       [37.73260325],\n",
              "       [38.19435995],\n",
              "       [37.61386581],\n",
              "       [38.08881556],\n",
              "       [36.99379253],\n",
              "       [38.36586958],\n",
              "       [37.03337168],\n",
              "       [37.83814764],\n",
              "       [38.1811669 ],\n",
              "       [37.53470752],\n",
              "       [38.03604337],\n",
              "       [36.92782729],\n",
              "       [38.207553  ],\n",
              "       [38.00965727],\n",
              "       [37.19168826],\n",
              "       [37.49512838],\n",
              "       [37.64025191],\n",
              "       [38.10200861],\n",
              "       [38.12839471],\n",
              "       [37.70621715],\n",
              "       [37.11252997]])"
            ]
          },
          "metadata": {
            "tags": []
          },
          "execution_count": 42
        }
      ]
    },
    {
      "cell_type": "markdown",
      "metadata": {
        "id": "t_MLQWm3FE9g",
        "colab_type": "text"
      },
      "source": [
        "# ***Visualizing the model***"
      ]
    },
    {
      "cell_type": "markdown",
      "metadata": {
        "id": "TfXWG3PvFNJv",
        "colab_type": "text"
      },
      "source": [
        "To visualize the model we will draw a scatter plot then fit the regressor line on it. We will use the *matplotlib* library to achieve this. Plotting the years against the temperature values\n",
        "\n"
      ]
    },
    {
      "cell_type": "markdown",
      "metadata": {
        "id": "BTwf1B3zGgEu",
        "colab_type": "text"
      },
      "source": [
        "# ***Visualizing the reggressor line on the training set***"
      ]
    },
    {
      "cell_type": "markdown",
      "metadata": {
        "id": "8M-uwEToGUEK",
        "colab_type": "text"
      },
      "source": [
        "This is a visual on the training set to see how well our line fits on it."
      ]
    },
    {
      "cell_type": "code",
      "metadata": {
        "id": "wTwD3Ft0FrTx",
        "colab_type": "code",
        "colab": {
          "base_uri": "https://localhost:8080/",
          "height": 295
        },
        "outputId": "eca1e265-2a58-4f1a-e962-5161ce4f4fa5"
      },
      "source": [
        "plt.scatter(x_train, y_train, color = 'red')\n",
        "plt.plot(x_train, regressor.predict(x_train), color = 'blue')\n",
        "plt.title('Time in Years against Temperature (Training set)')\n",
        "plt.xlabel('Years')\n",
        "plt.ylabel('Temperature')\n",
        "plt.show()"
      ],
      "execution_count": 43,
      "outputs": [
        {
          "output_type": "display_data",
          "data": {
            "image/png": "[encoded data removed]",
            "text/plain": [
              "<Figure size 432x288 with 1 Axes>"
            ]
          },
          "metadata": {
            "tags": [],
            "needs_background": "light"
          }
        }
      ]
    },
    {
      "cell_type": "markdown",
      "metadata": {
        "id": "rZWDysOQGruW",
        "colab_type": "text"
      },
      "source": [
        "# ***Visualizing the reggressor line on the test set***"
      ]
    },
    {
      "cell_type": "markdown",
      "metadata": {
        "id": "CrGb8WKAG-fN",
        "colab_type": "text"
      },
      "source": [
        "Here we will use our trained regressor line on the the test data set"
      ]
    },
    {
      "cell_type": "markdown",
      "metadata": {
        "id": "U-bPwxkaHMyM",
        "colab_type": "text"
      },
      "source": [
        "Remember the test predictions it had already made on the test data *predict_test_data*"
      ]
    },
    {
      "cell_type": "code",
      "metadata": {
        "id": "LfcGf0MSHYnb",
        "colab_type": "code",
        "colab": {
          "base_uri": "https://localhost:8080/",
          "height": 442
        },
        "outputId": "ebe668a2-6414-47bc-a8cd-29974e244e25"
      },
      "source": [
        "predict_test_data"
      ],
      "execution_count": 44,
      "outputs": [
        {
          "output_type": "execute_result",
          "data": {
            "text/plain": [
              "array([[37.00698558],\n",
              "       [37.56109362],\n",
              "       [37.46874228],\n",
              "       [37.21807436],\n",
              "       [37.73260325],\n",
              "       [38.19435995],\n",
              "       [37.61386581],\n",
              "       [38.08881556],\n",
              "       [36.99379253],\n",
              "       [38.36586958],\n",
              "       [37.03337168],\n",
              "       [37.83814764],\n",
              "       [38.1811669 ],\n",
              "       [37.53470752],\n",
              "       [38.03604337],\n",
              "       [36.92782729],\n",
              "       [38.207553  ],\n",
              "       [38.00965727],\n",
              "       [37.19168826],\n",
              "       [37.49512838],\n",
              "       [37.64025191],\n",
              "       [38.10200861],\n",
              "       [38.12839471],\n",
              "       [37.70621715],\n",
              "       [37.11252997]])"
            ]
          },
          "metadata": {
            "tags": []
          },
          "execution_count": 44
        }
      ]
    },
    {
      "cell_type": "code",
      "metadata": {
        "id": "yzrxLG7qHIfz",
        "colab_type": "code",
        "colab": {
          "base_uri": "https://localhost:8080/",
          "height": 295
        },
        "outputId": "c5564843-a6fb-4d0e-c3fc-d2ee60c8d103"
      },
      "source": [
        "plt.scatter(x_test, y_test, color = 'black')\n",
        "plt.plot(x_train, regressor.predict(x_train), color = 'blue')\n",
        "plt.title('Time in Years against Temperature (Test set)')\n",
        "plt.xlabel('Years')\n",
        "plt.ylabel('Temperature')\n",
        "plt.show()"
      ],
      "execution_count": 45,
      "outputs": [
        {
          "output_type": "display_data",
          "data": {
            "image/png": "[encoded data removed]",
            "text/plain": [
              "<Figure size 432x288 with 1 Axes>"
            ]
          },
          "metadata": {
            "tags": [],
            "needs_background": "light"
          }
        }
      ]
    },
    {
      "cell_type": "markdown",
      "metadata": {
        "id": "EpgdCwjEHsig",
        "colab_type": "text"
      },
      "source": [
        "To put the ability of our regressor in perspective here is a plot with both test and training data sets used."
      ]
    },
    {
      "cell_type": "code",
      "metadata": {
        "id": "4OA30k6NIL-5",
        "colab_type": "code",
        "colab": {
          "base_uri": "https://localhost:8080/",
          "height": 295
        },
        "outputId": "91421409-ef48-49f7-c403-fab85b48d5a6"
      },
      "source": [
        "plt.scatter(x_train, y_train, color = 'black')\n",
        "plt.scatter(x_test, y_test, color = 'red')\n",
        "plt.plot(x_train, regressor.predict(x_train), color = 'blue')\n",
        "plt.title('Time in Years against Temperature (Combined datasets)')\n",
        "plt.xlabel('Years')\n",
        "plt.ylabel('Temperature')\n",
        "plt.show()"
      ],
      "execution_count": 46,
      "outputs": [
        {
          "output_type": "display_data",
          "data": {
            "image/png": "[encoded data removed]",
            "text/plain": [
              "<Figure size 432x288 with 1 Axes>"
            ]
          },
          "metadata": {
            "tags": [],
            "needs_background": "light"
          }
        }
      ]
    },
    {
      "cell_type": "markdown",
      "metadata": {
        "id": "nULackKOI_Bp",
        "colab_type": "text"
      },
      "source": [
        "# ***Finding the linear equation of the regressor***"
      ]
    },
    {
      "cell_type": "markdown",
      "metadata": {
        "id": "9VJbN5vAJQcc",
        "colab_type": "text"
      },
      "source": [
        "Simple linear regression models form a simple linear equation that explains the relationship between the two variable in the format *y = mx + c*\n",
        "\n",
        "\n",
        "> Where m represents the slope of the line and c represents the *y*-intercept\n",
        "\n"
      ]
    },
    {
      "cell_type": "markdown",
      "metadata": {
        "id": "Da1HpEN5J1Tj",
        "colab_type": "text"
      },
      "source": [
        "Finding the slope"
      ]
    },
    {
      "cell_type": "code",
      "metadata": {
        "id": "weyJ6J65J5rn",
        "colab_type": "code",
        "colab": {
          "base_uri": "https://localhost:8080/",
          "height": 34
        },
        "outputId": "78b0ec11-0373-4f1a-846a-b7c925d6c2d7"
      },
      "source": [
        "print(\"Slope = \", regressor.coef_)"
      ],
      "execution_count": 47,
      "outputs": [
        {
          "output_type": "stream",
          "text": [
            "Slope =  [[0.01319305]]\n"
          ],
          "name": "stdout"
        }
      ]
    },
    {
      "cell_type": "markdown",
      "metadata": {
        "id": "IRH5hVCWKClQ",
        "colab_type": "text"
      },
      "source": [
        "Finding the *y*-intercept"
      ]
    },
    {
      "cell_type": "code",
      "metadata": {
        "id": "ZlBA6YWmKLZI",
        "colab_type": "code",
        "colab": {
          "base_uri": "https://localhost:8080/",
          "height": 34
        },
        "outputId": "5ac5812b-a3d0-47a1-f560-d9ca4fddbccd"
      },
      "source": [
        "print(\"Intercept = \", regressor.intercept_)"
      ],
      "execution_count": 48,
      "outputs": [
        {
          "output_type": "stream",
          "text": [
            "Intercept =  [11.90061412]\n"
          ],
          "name": "stdout"
        }
      ]
    },
    {
      "cell_type": "markdown",
      "metadata": {
        "id": "O1cVgISUKYEs",
        "colab_type": "text"
      },
      "source": [
        "Now that we have found the *y*-intercept and the slope of the line we can derrive a linear equation for the model using the previously discussed format. Therefore the equation of the line is:\n",
        "\n",
        "> ***y = 0.01319305X + 11.90061412***\n",
        "\n"
      ]
    },
    {
      "cell_type": "markdown",
      "metadata": {
        "id": "eklP1e76LA9J",
        "colab_type": "text"
      },
      "source": [
        "After establishing this equation we can then use it to solve for the temperatures of years that were not present in the dataset. To test this out we will predict the annual temperature of 2019"
      ]
    },
    {
      "cell_type": "markdown",
      "metadata": {
        "id": "9Wb7AI0CLX1A",
        "colab_type": "text"
      },
      "source": [
        "*y* the temperatre  = (0.01319305 X 2019) + 11.90061412\n",
        "\n",
        "> *y = 26.63676795 + 11.90061412*\n",
        "\n",
        "\n",
        "> *y* = 38.53738207 \n",
        "\n",
        "\n",
        "\n"
      ]
    },
    {
      "cell_type": "markdown",
      "metadata": {
        "id": "88M1UWFrMZEm",
        "colab_type": "text"
      },
      "source": [
        "Therefore the predicted temperature of 2019 is *38.53738207*"
      ]
    }
  ]
}